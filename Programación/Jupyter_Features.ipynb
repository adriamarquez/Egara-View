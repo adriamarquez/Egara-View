{
 "metadata": {
  "name": "",
  "signature": "sha256:dcc2a43da61007dbe18007f13086fe7dad69cf0d3e68ea1d204707e265d17c0b"
 },
 "nbformat": 3,
 "nbformat_minor": 0,
 "worksheets": [
  {
   "cells": [
    {
     "cell_type": "heading",
     "level": 1,
     "metadata": {},
     "source": [
      "Features Notebook"
     ]
    },
    {
     "cell_type": "markdown",
     "metadata": {},
     "source": [
      "En aquesta Notebook explicarem pas a pas el funcionament de la nostra funcio get_params"
     ]
    },
    {
     "cell_type": "heading",
     "level": 3,
     "metadata": {},
     "source": [
      "Pas 1: Importaci\u00f3 de les funcions"
     ]
    },
    {
     "cell_type": "markdown",
     "metadata": {},
     "source": [
      "Importem les funcions necess\u00e0ries per a l'extracci\u00f3 i computaci\u00f3 de caracter\u00edstiques de les imatges i ens col\u00b7loquem en el directori de treball"
     ]
    },
    {
     "cell_type": "code",
     "collapsed": false,
     "input": [
      "import os\n",
      "os.chdir('C:\\Users\\Carles\\Desktop\\Pruebas Python')\n",
      "import numpy as np\n",
      "import cPickle as pk\n",
      "from get_local_features import get_local_features\n",
      "from train_codebook import train_codebook\n",
      "from get_assignments import get_assignments\n",
      "from build_bow import build_bow\n",
      "from get_params import get_params\n",
      "import warnings\n",
      "warnings.filterwarnings(\"ignore\")\n",
      "params=get_params()"
     ],
     "language": "python",
     "metadata": {},
     "outputs": [],
     "prompt_number": 1
    },
    {
     "cell_type": "heading",
     "level": 3,
     "metadata": {},
     "source": [
      "Pas 2: Extracci\u00f3 i computaci\u00f3 de caracter\u00edstiques de les imatges d'entrenament"
     ]
    },
    {
     "cell_type": "markdown",
     "metadata": {},
     "source": [
      "Obrim el fitxer creat per la funci\u00f3 build_database, que crea un fitxer txt amb les ID de totes les imatges d'entrenament i llavors agafem aquestes ID per anar passant-li les imatges a la funci\u00f3 get_local_features, que ens retornar\u00e0 un vector de 1000 caracter\u00edstiques extretes i computades per l'extractor de caracter\u00edstiques RootSIFT (abans de passar pel RootSIFT a les imatges li fem un resize mantenint la relaci\u00f3 d'aspecte per a que executi m\u00e9s r\u00e0pid i les passem a escala de grissos ja qu e\u00e9s un requisit del RootSIFT). Aquests vectors de descriptors els anem concatenenant per a guardar-los en una sola variable i a m\u00e9s els guardem individualment en un diccionari on la key ser\u00e0 la ID de les imatges d'entrenament."
     ]
    },
    {
     "cell_type": "code",
     "collapsed": false,
     "input": [
      "#Obrim el fitxer que conte les ID de les imatges d'entrenament\n",
      "ID=open(os.path.join(params['root'],params['database'],'train','ImageIDs.txt'), 'r')\n",
      "#Extraccio de les caracteristiques de la imatge de la primera linia del ImageIDs.txt\n",
      "nom=str(ID.readline()).replace('\\n','')\n",
      "desc_train=get_local_features(params,os.path.join(params['root'],params['database'],'train','images',nom + '.jpg'))\n",
      "#Extraccio de les caracteristiques per a la resta de les imatges d'entrenament\n",
      "dictrain=dict()\n",
      "dictrain[nom]=desc_train\n",
      "for line in ID:\n",
      "    nom=str(line).replace('\\n','')\n",
      "    x=get_local_features(params,os.path.join(params['root'],params['database'],'train','images',nom + '.jpg'))\n",
      "    #Concatenar les caracteristiques de cada imatge en una numpy array\n",
      "    desc_train=np.concatenate((desc_train,x))\n",
      "    dictrain[nom]=x\n",
      "#Tanquem el fitxer\n",
      "ID.close()"
     ],
     "language": "python",
     "metadata": {},
     "outputs": [],
     "prompt_number": 2
    },
    {
     "cell_type": "heading",
     "level": 3,
     "metadata": {},
     "source": [
      "Pas 3: Entrenament del KMeans"
     ]
    },
    {
     "cell_type": "markdown",
     "metadata": {},
     "source": [
      "Fixem el numero de clusters que volem a 1024 i li passem a la funci\u00f3 train_codebook, que amb la funci\u00f3 MiniBatchKMeans far\u00e0 els 1024 clusters i amb la fit() computar\u00e0 els centroides de cada cluster."
     ]
    },
    {
     "cell_type": "code",
     "collapsed": false,
     "input": [
      "#Entrenament del KMeans nomes per a les imatges d'entrenament amb 1024 paraules\n",
      "paraules=1024\n",
      "codebook=train_codebook(params,desc_train,paraules)"
     ],
     "language": "python",
     "metadata": {},
     "outputs": [],
     "prompt_number": 3
    },
    {
     "cell_type": "heading",
     "level": 3,
     "metadata": {},
     "source": [
      "Pas 4: Assignaci\u00f3 dels descriptors i construcci\u00f3 de la Bag of Words"
     ]
    },
    {
     "cell_type": "markdown",
     "metadata": {},
     "source": [
      "En aquest \u00faltim pas, agafem els descriptors de les imatges d'entrenament i validaci\u00f3 i els passem a la funcio get_assignments per a que amb la funci\u00f3 predict i el codebook ens col\u00b7loqui cada descriptor al cluster corresponent, per despr\u00e9s aquestes assignacions passar-les a la funci\u00f3 build_bow per construir-nos un vecor de Bag of Words. Aquests vectors els guardem en un diccionari, que amb el pickle el guardarem a mem\u00f2ria amb el nom de 'Features.txt'."
     ]
    },
    {
     "cell_type": "code",
     "collapsed": false,
     "input": [
      "#Obrim el fitxer que conte les ID de les imatges d'entrenament\n",
      "ID=open(os.path.join(params['root'],params['database'],'train','ImageIDs.txt'), 'r')\n",
      "for line in ID:\n",
      "    nom=str(line).replace('\\n','')\n",
      "    #Calculem les assignacions per les imatges d'entrenament\n",
      "    assignments=get_assignments(dictrain[nom],codebook)\n",
      "    #Creacio del BoW per les imatges d'entrenament i emplenament del diccionari\n",
      "    dictrain[nom]=build_bow(assignments,codebook,paraules)\n",
      "#Tanquem el fitxer\n",
      "ID.close()\n",
      "\n",
      "#Guardem el diccionari amb el BoW de les imatges d'entrenament en l'arxiu \"Features.txt\"\n",
      "bow_train = open (os.path.join(params['root'],params['database'],'train','Features.txt'), 'w')\n",
      "pk.dump(dictrain,bow_train)\n",
      "bow_train.close()\n",
      "\n",
      "#Obrim el fitxer que cont\u00e9 les ID de les imatges de validacio\n",
      "ID = open(os.path.join(params['root'],params['database'],'val','ImageIDs.txt'), 'r')\n",
      "#Creacio del diccionari de les imatges de validacio\n",
      "dicval=dict()\n",
      "for line in ID:\n",
      "    #Extraccio de les caracteristiques per a les imatges de validacio\n",
      "    x=get_local_features(params,os.path.join(params['root'],params['database'],'val','images',str(line).replace('\\n','') + '.jpg'))\n",
      "    #Calculem les assignacions per les imatges de validacio\n",
      "    assignments=get_assignments(x,codebook)\n",
      "    #Creacio del BoW per les imatges de validacio i emplenament del diccionari\n",
      "    dicval[str(line).replace('\\n','')]=build_bow(assignments,codebook,paraules)\n",
      "#Tanquem el fitxer\n",
      "ID.close()\n",
      "\n",
      "#Guardem el diccionari amb el BoW de les imatges de validacio en l'arxiu \"Features.txt\"\n",
      "bow_val = open (os.path.join(params['root'],params['database'],'val','Features.txt'), 'w')\n",
      "pk.dump(dicval,bow_val)\n",
      "bow_val.close()"
     ],
     "language": "python",
     "metadata": {},
     "outputs": [],
     "prompt_number": 4
    }
   ],
   "metadata": {}
  }
 ]
}