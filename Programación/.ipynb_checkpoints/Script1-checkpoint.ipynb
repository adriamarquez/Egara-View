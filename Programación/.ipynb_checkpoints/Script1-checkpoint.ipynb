{
 "cells": [
  {
   "cell_type": "code",
   "execution_count": null,
   "metadata": {
    "collapsed": true
   },
   "outputs": [],
   "source": [
    "# -*- coding: utf-8 -*-\n",
    "import numpy as np\n",
    "import cv2\n",
    "from matplotlib import pyplot as plt\n",
    "\n",
    "#Leemos la imagen de entrada a analizar\n",
    "img=cv2.imread('teatre2.jpg',1)\n",
    "#Habilitamos el módulo que nos permitirá utilizar el detector\n",
    "orb=cv2.ORB()\n",
    "#Ejecutamos la función, insertandole la imagen deseada y almacenamos los keyp.\n",
    "kp=orb.detect(img,None)\n",
    "#Los computamos y los ubicamos sobre la imagen\n",
    "kp, des= orb.compute(img,kp)\n",
    "#Dibujamos esos puntos en una imagen de salida llamada imagen 2 que será la suma\n",
    "#de los puntos detectados más la imagen de entrada.\n",
    "img2 = cv2.drawKeypoints(img,kp,color=(0,255,0), flags=0)\n",
    "#Mostramos por pantalla\n",
    "cv2.namedWindow('image2')\n",
    "#Mostramos imagen2\n",
    "cv2.imshow('image2',img2)\n",
    "# Este algoritmo ha sido seleccionado por sus resultados computacionales, \n",
    "#analizado previamente en una comparativa entre detectores, actua similar a detectores\n",
    "#del tipo SURF pero con la ventaja de que la patente es libre, por lo tanto,\n",
    "#puede ser utilizado sin pagar por el en futuras aplicaciones."
   ]
  }
 ],
 "metadata": {
  "kernelspec": {
   "display_name": "Python 2",
   "language": "python",
   "name": "python2"
  },
  "language_info": {
   "codemirror_mode": {
    "name": "ipython",
    "version": 2
   },
   "file_extension": ".py",
   "mimetype": "text/x-python",
   "name": "python",
   "nbconvert_exporter": "python",
   "pygments_lexer": "ipython2",
   "version": "2.7.9"
  }
 },
 "nbformat": 4,
 "nbformat_minor": 0
}
