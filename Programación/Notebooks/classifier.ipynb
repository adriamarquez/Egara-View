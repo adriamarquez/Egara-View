{
 "metadata": {
  "celltoolbar": "Slideshow",
  "name": "",
  "signature": "sha256:2ad740d8368376e702353b51ac375358068142b3d2b8468fa20cf02b588f0cb7"
 },
 "nbformat": 3,
 "nbformat_minor": 0,
 "worksheets": [
  {
   "cells": [
    {
     "cell_type": "markdown",
     "metadata": {
      "slideshow": {
       "slide_type": "notes"
      }
     },
     "source": [
      "Primer de tot fem els imports necessaris:"
     ]
    },
    {
     "cell_type": "code",
     "collapsed": false,
     "input": [
      "## Random_classification\n",
      "import os \n",
      "import random \n",
      "import cPickle as pk"
     ],
     "language": "python",
     "metadata": {},
     "outputs": []
    },
    {
     "cell_type": "markdown",
     "metadata": {
      "slideshow": {
       "slide_type": "notes"
      }
     },
     "source": [
      "En comptes d'executar com a funci\u00f3, ho fem com si fos programa principal:"
     ]
    },
    {
     "cell_type": "code",
     "collapsed": false,
     "input": [
      "feat='C:\\\\Users\\\\Universitat\\\\Dropbox\\\\ProjecteGDSA\\\\Repositori\\\\TerrassaBuildings900\\\\val\\\\features.txt';\n",
      "path_out='C:\\\\Users\\\\Universitat\\\\Dropbox\\\\ProjecteGDSA\\\\Repositori\\\\TerrassaBuildings900\\\\val\\\\result';\n",
      "labels='C:\\\\Users\\\\Universitat\\\\Dropbox\\\\ProjecteGDSA\\\\Repositori\\\\labels.txt';"
     ],
     "language": "python",
     "metadata": {},
     "outputs": []
    },
    {
     "cell_type": "markdown",
     "metadata": {},
     "source": [
      "Obrim .txt amb les 'labels' (12 l\u00ednies, obviem la classe 'desconegut'), un altre amb les features i el de sortida"
     ]
    },
    {
     "cell_type": "code",
     "collapsed": false,
     "input": [
      "in_l = open(labels,'r')\n",
      "in_f = open(feat,'r') \n",
      "out = open(path_out +'\\\\classify.txt.', 'w');"
     ],
     "language": "python",
     "metadata": {},
     "outputs": []
    },
    {
     "cell_type": "markdown",
     "metadata": {
      "slideshow": {
       "slide_type": "notes"
      }
     },
     "source": [
      "Carreguem a mem\u00f2ria les features i afegim la primera lina al .txt de sortida"
     ]
    },
    {
     "cell_type": "code",
     "collapsed": false,
     "input": [
      "feat = pk.load(in_f)\n",
      "out.write('ImageID' + '\\t' + 'ClassID' + '\\n')\n",
      "    \n",
      "    "
     ],
     "language": "python",
     "metadata": {},
     "outputs": []
    },
    {
     "cell_type": "markdown",
     "metadata": {
      "slideshow": {
       "slide_type": "notes"
      }
     },
     "source": [
      "Escrivim per cada ImageID de Validaci\u00f3 un 'label' aleat\u00f2ri:"
     ]
    },
    {
     "cell_type": "code",
     "collapsed": false,
     "input": [
      "for line in feat.keys(): \n",
      "        rand = random.choice(str(open(in_l).readlines())\n",
      "        out.write(line + '\\t' + rand + '\\n')"
     ],
     "language": "python",
     "metadata": {},
     "outputs": []
    },
    {
     "cell_type": "markdown",
     "metadata": {},
     "source": [
      "Tanquem el fitxer de sortida i els d'entrada"
     ]
    },
    {
     "cell_type": "code",
     "collapsed": false,
     "input": [
      "out.close()\n",
      "in_f.close()\n",
      "in_l.close()"
     ],
     "language": "python",
     "metadata": {},
     "outputs": []
    },
    {
     "cell_type": "markdown",
     "metadata": {},
     "source": [
      "Com que retorna un fitxer no veiem la sortida"
     ]
    }
   ],
   "metadata": {}
  }
 ]
}