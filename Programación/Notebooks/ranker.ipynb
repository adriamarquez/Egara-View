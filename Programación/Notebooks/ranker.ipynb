{
 "metadata": {
  "name": "",
  "signature": "sha256:bf1f674a70d58a993559b4c5110be9ea050a065d7110b8cc6fd788747c497579"
 },
 "nbformat": 3,
 "nbformat_minor": 0,
 "worksheets": [
  {
   "cells": [
    {
     "cell_type": "markdown",
     "metadata": {},
     "source": [
      "Importem les llibreries necessaries:"
     ]
    },
    {
     "cell_type": "code",
     "collapsed": false,
     "input": [
      "## Random_ranking\n",
      "import os\n",
      "import random\n",
      "import numpy as np\n",
      "import cPickle as pk"
     ],
     "language": "python",
     "metadata": {},
     "outputs": []
    },
    {
     "cell_type": "markdown",
     "metadata": {},
     "source": [
      "En comptes d'executar com a funci\u00f3, ho fem com si fos programa principal:"
     ]
    },
    {
     "cell_type": "code",
     "collapsed": false,
     "input": [
      "pathval='C:\\\\Users\\\\Universitat\\\\Dropbox\\\\ProjecteGDSA\\\\Repositori\\\\TerrassaBuildings900\\\\val';\n",
      "pathtrain='C:\\\\Users\\\\Universitat\\\\Dropbox\\\\ProjecteGDSA\\\\Repositori\\\\TerrassaBuildings900\\\\train';\n",
      "outpath='C:\\\\Users\\\\Universitat\\\\Dropbox\\\\ProjecteGDSA\\\\Repositori\\\\TerrassaBuildings900\\\\val\\\\result';"
     ],
     "language": "python",
     "metadata": {},
     "outputs": []
    },
    {
     "cell_type": "markdown",
     "metadata": {},
     "source": [
      "Obrim els fitxers de caracter\u00edstiques de validaci\u00f3 i train:"
     ]
    },
    {
     "cell_type": "code",
     "collapsed": false,
     "input": [
      "fval= open(pathval+'\\\\Features.txt','r')\n",
      "ftrain= open(pathtrain+'\\\\Features.txt','r')"
     ],
     "language": "python",
     "metadata": {},
     "outputs": []
    },
    {
     "cell_type": "markdown",
     "metadata": {},
     "source": [
      "Declarem els dictionaries:"
     ]
    },
    {
     "cell_type": "code",
     "collapsed": false,
     "input": [
      "dval=dict()\n",
      "dtrain=dict()"
     ],
     "language": "python",
     "metadata": {},
     "outputs": []
    },
    {
     "cell_type": "markdown",
     "metadata": {},
     "source": [
      "Carreguem la informaci\u00f3 als dictionaries:"
     ]
    },
    {
     "cell_type": "code",
     "collapsed": false,
     "input": [
      "dval=pk.load(fval)\n",
      "dtrain=pk.load(ftrain)"
     ],
     "language": "python",
     "metadata": {},
     "outputs": []
    },
    {
     "cell_type": "markdown",
     "metadata": {},
     "source": [
      "Per cada imatge de Validaci\u00f3 generem un ranking aleatori:"
     ]
    },
    {
     "cell_type": "code",
     "collapsed": false,
     "input": [
      "for vkey in dval:\n",
      "        frank = open(outpath+'\\\\'+vkey+'.txt','w')\n",
      "        for tkey in dtrain:\n",
      "            frank.write(random.choice(dtrain.keys())+\"\\n\")\n",
      "        frank.close()"
     ],
     "language": "python",
     "metadata": {},
     "outputs": []
    },
    {
     "cell_type": "markdown",
     "metadata": {},
     "source": [
      "Tanquem els fitxers de caracter\u00edstiques de validaci\u00f3 i train:"
     ]
    },
    {
     "cell_type": "code",
     "collapsed": false,
     "input": [
      "fval.close()\n",
      "ftrain.close()"
     ],
     "language": "python",
     "metadata": {},
     "outputs": []
    },
    {
     "cell_type": "markdown",
     "metadata": {},
     "source": [
      "Com que retorna un fitxers, no veiem la sortida"
     ]
    }
   ],
   "metadata": {}
  }
 ]
}